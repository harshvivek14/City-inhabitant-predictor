{
 "cells": [
  {
   "cell_type": "code",
   "execution_count": 38,
   "id": "31b11147",
   "metadata": {},
   "outputs": [],
   "source": [
    "import pandas as pd\n",
    "import numpy as np"
   ]
  },
  {
   "cell_type": "markdown",
   "id": "09ed8194",
   "metadata": {},
   "source": [
    "\n",
    "### Data import\n",
    "\n"
   ]
  },
  {
   "cell_type": "code",
   "execution_count": 39,
   "id": "494399c9",
   "metadata": {},
   "outputs": [
    {
     "name": "stdout",
     "output_type": "stream",
     "text": [
      "<bound method NDFrame.head of             city     inhabitant\n",
      "0         Aarhus      Aarhusian\n",
      "1       Aberdeen     Aberdonian\n",
      "2        Abidjan     Abidjanais\n",
      "3          Adana        Adanite\n",
      "4       Adelaide     Adelaidean\n",
      "...          ...            ...\n",
      "1204      Maseru       Maseruan\n",
      "1205    Lilongwe     Lilongwean\n",
      "1206  Port Louis  Port Louisian\n",
      "1207    Windhoek     Windhoeker\n",
      "1208    Pretoria      Pretorian\n",
      "\n",
      "[1209 rows x 2 columns]>\n"
     ]
    }
   ],
   "source": [
    "df = pd.read_csv('city_inhabitant_data.csv')\n",
    "\n",
    "df.columns = ['city', 'inhabitant']\n",
    "\n",
    "print(df.head)"
   ]
  },
  {
   "cell_type": "markdown",
   "id": "93cf1909",
   "metadata": {},
   "source": [
    "\n",
    "\n",
    "### Data cleaning\n",
    "\n"
   ]
  },
  {
   "cell_type": "code",
   "execution_count": 40,
   "id": "b0b1b1c0",
   "metadata": {},
   "outputs": [
    {
     "name": "stdout",
     "output_type": "stream",
     "text": [
      "1071\n"
     ]
    }
   ],
   "source": [
    "# removing duplicate entries \n",
    "\n",
    "city_list = df.values.tolist()\n",
    "\n",
    "city_names = []\n",
    "\n",
    "for i in city_list:\n",
    "    if i not in city_names and len(i[0])>2:\n",
    "        city_names.append(i)\n",
    "        \n",
    "city_list = city_names\n",
    "\n",
    "print(len(city_names))"
   ]
  },
  {
   "cell_type": "code",
   "execution_count": 45,
   "id": "84be268c",
   "metadata": {},
   "outputs": [],
   "source": [
    "# segregation of data\n",
    "\n",
    "small_inhabitant, mismatched_city, matched_city = [],[],[]\n",
    "\n",
    "for i in city_list:\n",
    "    if len(i[0])>len(i[1]):\n",
    "        small_inhabitant.append(i)\n",
    "    else:\n",
    "        if i[0] != i[1][:len(i[0])]:\n",
    "            mismatched_city.append(i)\n",
    "        else:\n",
    "            matched_city.append(i)\n",
    "            \n",
    "matched_city = [['city', 'inhabitant']] + matched_city"
   ]
  },
  {
   "cell_type": "code",
   "execution_count": 46,
   "id": "1b68cc16",
   "metadata": {},
   "outputs": [
    {
     "name": "stdout",
     "output_type": "stream",
     "text": [
      "111\n",
      "361\n",
      "600\n"
     ]
    }
   ],
   "source": [
    "print(len(small_inhabitant))\n",
    "print(len(mismatched_city))\n",
    "print(len(matched_city))"
   ]
  },
  {
   "cell_type": "markdown",
   "id": "029c3894",
   "metadata": {},
   "source": [
    "### Saving filtered data to train model/rule creation"
   ]
  },
  {
   "cell_type": "code",
   "execution_count": 48,
   "id": "2f568975",
   "metadata": {},
   "outputs": [],
   "source": [
    "np.savetxt(\"matched_city.csv\",\n",
    "        matched_city,\n",
    "        delimiter =\",\",\n",
    "        fmt ='% s')"
   ]
  },
  {
   "cell_type": "code",
   "execution_count": null,
   "id": "c12c232e",
   "metadata": {},
   "outputs": [],
   "source": []
  },
  {
   "cell_type": "code",
   "execution_count": null,
   "id": "1f9ed5d5",
   "metadata": {},
   "outputs": [],
   "source": []
  }
 ],
 "metadata": {
  "kernelspec": {
   "display_name": "Python 3 (ipykernel)",
   "language": "python",
   "name": "python3"
  },
  "language_info": {
   "codemirror_mode": {
    "name": "ipython",
    "version": 3
   },
   "file_extension": ".py",
   "mimetype": "text/x-python",
   "name": "python",
   "nbconvert_exporter": "python",
   "pygments_lexer": "ipython3",
   "version": "3.11.4"
  }
 },
 "nbformat": 4,
 "nbformat_minor": 5
}
